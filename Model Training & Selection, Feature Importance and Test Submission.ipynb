{
 "cells": [
  {
   "cell_type": "markdown",
   "id": "fc380e5f",
   "metadata": {},
   "source": [
    "# The problem from a business side\n",
    "\n",
    "We aim to optimize the success rate. From a business perspective, we have the following options:\n",
    "\n",
    "**A)** From a pool of potential clients, we could chose those with the highest success rates and call them first. The model should be able to rank clients in terms of \n",
    "probability.\n",
    "\n",
    "**B)** For a give customer, we could aim to influence the controlled variables like month, day-of-week of the call, means of contact in an attempt to influence the call outcome - assuming, causality. The model should be able to give real-time, bespoke recommendations for actions that pull the sales process for each client towards a higher success probability. I.e. adressing whom, when and how to call."
   ]
  },
  {
   "cell_type": "markdown",
   "id": "521c466a",
   "metadata": {},
   "source": [
    "# Chosing an evaluation metric and model\n",
    "\n",
    "The model should\n",
    "- have a high performance and generalize well -> don´t overfit\n",
    "- be interpretable -> no neural networks\n",
    "- lead to actionable insights\n",
    "- be robust and be able to deal with missing values, outliers etc. -> This can be implemented in the inference pipeline, however, there are also models which handle it well, like XGBoost.\n",
    "\n",
    "Compared of the cost of missing a potential client (false negative) the cost of an unsuccessful call is fairly low (false positives). Therefore, **we should optimize the classifier for recall**, i.e. keeping false negatives - or the number of uncalled clients that would have been successful - low.  "
   ]
  },
  {
   "cell_type": "markdown",
   "id": "ff090069",
   "metadata": {},
   "source": [
    "# Loading data\n",
    "Lets load the preprocessed training and test data: See script \"EDA & Preprocessing.ipynb\" for details.\n",
    "The features are already preprocessed, i.e. one-hot encoded, mapped or imputed. Both files also contain the engineered variable \"month\"."
   ]
  },
  {
   "cell_type": "code",
   "execution_count": 1,
   "id": "27d1552d",
   "metadata": {},
   "outputs": [],
   "source": [
    "import pandas as pd\n",
    "\n",
    "X_train = pd.read_csv('data/preprocessed_data/imputed_data.csv')\n",
    "X_test = pd.read_csv('data/preprocessed_data/imputed_test_data.csv')\n",
    "\n",
    "y_train = X_train[\"y\"]\n",
    "X_train = X_train.drop('y', axis=1) # drop target from the training data\n"
   ]
  },
  {
   "cell_type": "markdown",
   "id": "63744cc9",
   "metadata": {},
   "source": [
    "# Establishing a baseline\n",
    "How well does the model perform in terms of accuracy against random guessing or in this case, predicting only class y=\"no\"?\n"
   ]
  },
  {
   "cell_type": "code",
   "execution_count": 2,
   "id": "02f4ac64",
   "metadata": {},
   "outputs": [
    {
     "name": "stdout",
     "output_type": "stream",
     "text": [
      "Baseline prediction accuracy is 88.74%.\n"
     ]
    }
   ],
   "source": [
    "percentage = (1 - sum(y_train) / len(y_train))  * 100\n",
    "print(f'Baseline prediction accuracy is {percentage:.2f}%.')"
   ]
  },
  {
   "cell_type": "markdown",
   "id": "db0b1f1c",
   "metadata": {},
   "source": [
    "## Model Selection: Trying out a bunch of diverse tree-, regression ensemble based models\n",
    "\n",
    "Due to the low cost of training, we can easily try out a bunch of models:\n",
    "\n",
    "- **Logistic Regression**: Models the relationship linearly between the input features and the probability of belonging to a class using a logistic function. Feature scaling is beneficial!\n",
    "- **Support Vector Machine**: Aims to find the best hyperplane that separates data by maximising distances. Feature importance is not directly interpretable. Feature scaling is beneficial!\n",
    "- **Decision Tree**: Repeatedly plits data into sub-branches by maximizing information gain. Its highly interpretable and can be drawn.\n",
    "- **Random Forest**: Combines decision trees but only considers a subset of features for each tree. It performs well with noisy data, can hanlde imbalanced data, is robust against overfitting and interpretable. \n",
    "- **Gradient Boosting Classifier**: Combines decision trees but in a sequential manner, correcting the errors of the previous tree. Advantages are similar to random forests but it tends to be more accurate, however, hyperparameter tuning is more complex.\n",
    "\n",
    "Others that are not used: \n",
    "- K-Nearest Neighbors Classifier - I tried to cluster using k-Means in EDA but was unsuccessful.\n",
    "- **XGBoost** - most promising algorithm, but very involved hyperparameter tuning.\n",
    "\n",
    "As an educated guess, I tend towards tree-based algorithms: They are robust against overfitting, most interpretable and can handle errors in feature encoding, for example in case the order in ordinal features is not right (\"education\").\n",
    "\n",
    "### Training strategy\n",
    "- **5-fold Stratified Cross Validation**, in order to keep the class imbalance equal among the folds.\n",
    "- **Metrics**: 'Accuracy', 'Precision', 'Recall', 'F1 Score' and 'AUC'.\n",
    "\n",
    "### Training without any hyperparamter optimization to get a first glance\n",
    "Without any hyperparameter optimization, most models achieve a similar performance around 90% with default Sklearn settings. The decision tree and the support vector classifier achieve around 88%-89% accuracy. Random Forest and Gradient Boosting achieves the top score >90% accuracy. \n",
    "\n",
    "### Hyperparamter optimization\n",
    "Hyperparameter optimization was done via Grid Search in the script \"Hyperparameter Tuning using Grid Search\". There are more efficient ways like randomized search or even search space optimization.\n",
    "\n",
    "### Training results\n",
    "Gradient Boosting achieves almost 91% top accuracy and outperforms the other classifiers in all relevant metrics. Most importantly, the rate of recall is by far the highest. \n",
    "The decision tree has the highest precision which is not optimized for.\n"
   ]
  },
  {
   "cell_type": "code",
   "execution_count": 3,
   "id": "a908df00",
   "metadata": {},
   "outputs": [
    {
     "name": "stderr",
     "output_type": "stream",
     "text": [
      "/Users/moritz.berthold/miniconda3/envs/daiichi/lib/python3.9/site-packages/scipy/__init__.py:146: UserWarning: A NumPy version >=1.16.5 and <1.23.0 is required for this version of SciPy (detected version 1.24.3\n",
      "  warnings.warn(f\"A NumPy version >={np_minversion} and <{np_maxversion}\"\n"
     ]
    }
   ],
   "source": [
    "import numpy as np\n",
    "from sklearn.model_selection import StratifiedKFold, cross_validate, cross_val_score, train_test_split\n",
    "from sklearn.linear_model import LogisticRegression\n",
    "from sklearn.ensemble import RandomForestClassifier, GradientBoostingClassifier\n",
    "from sklearn.svm import SVC\n",
    "from sklearn.tree import DecisionTreeClassifier\n",
    "from sklearn.metrics import precision_score, recall_score, f1_score, accuracy_score, roc_auc_score, roc_curve, confusion_matrix\n",
    "\n",
    "# Definition of models including best performing hyperparameters.\n",
    "models = [\n",
    "    ('Logistic Regression', LogisticRegression(max_iter=1000)),\n",
    "    ('Random Forest', RandomForestClassifier(max_depth = 40, min_samples_split = 20, n_estimators = 100)),\n",
    "    ('Support Vector Machine', SVC()), # did not yet look for the best hyperparameter options.\n",
    "    ('Decision Tree', DecisionTreeClassifier(criterion=\"gini\", max_depth= 5, min_samples_leaf=1, min_samples_split= 100)),\n",
    "    ('Gradient Boosting Classifier', GradientBoostingClassifier(learning_rate= 0.05, max_depth= 4, n_estimators= 500))\n",
    "]"
   ]
  },
  {
   "cell_type": "code",
   "execution_count": 4,
   "id": "8312dd25",
   "metadata": {},
   "outputs": [
    {
     "name": "stdout",
     "output_type": "stream",
     "text": [
      "Logistic Regression: Mean accuracy: 90.36%, Standard deviation: 0.0015\n",
      "Random Forest: Mean accuracy: 90.65%, Standard deviation: 0.0012\n",
      "Support Vector Machine: Mean accuracy: 89.32%, Standard deviation: 0.0020\n",
      "Decision Tree: Mean accuracy: 90.55%, Standard deviation: 0.0016\n",
      "Gradient Boosting Classifier: Mean accuracy: 90.82%, Standard deviation: 0.0010\n"
     ]
    },
    {
     "data": {
      "text/html": [
       "<div>\n",
       "<style scoped>\n",
       "    .dataframe tbody tr th:only-of-type {\n",
       "        vertical-align: middle;\n",
       "    }\n",
       "\n",
       "    .dataframe tbody tr th {\n",
       "        vertical-align: top;\n",
       "    }\n",
       "\n",
       "    .dataframe thead th {\n",
       "        text-align: right;\n",
       "    }\n",
       "</style>\n",
       "<table border=\"1\" class=\"dataframe\">\n",
       "  <thead>\n",
       "    <tr style=\"text-align: right;\">\n",
       "      <th></th>\n",
       "      <th>Model</th>\n",
       "      <th>Accuracy</th>\n",
       "      <th>Precision</th>\n",
       "      <th>Recall</th>\n",
       "      <th>F1 Score</th>\n",
       "      <th>AUC</th>\n",
       "      <th>Std</th>\n",
       "    </tr>\n",
       "  </thead>\n",
       "  <tbody>\n",
       "    <tr>\n",
       "      <th>0</th>\n",
       "      <td>Logistic Regression</td>\n",
       "      <td>0.903586</td>\n",
       "      <td>0.640239</td>\n",
       "      <td>0.328576</td>\n",
       "      <td>0.434119</td>\n",
       "      <td>0.901090</td>\n",
       "      <td>0.001548</td>\n",
       "    </tr>\n",
       "    <tr>\n",
       "      <th>1</th>\n",
       "      <td>Random Forest</td>\n",
       "      <td>0.906472</td>\n",
       "      <td>0.666740</td>\n",
       "      <td>0.339366</td>\n",
       "      <td>0.449532</td>\n",
       "      <td>0.923183</td>\n",
       "      <td>0.001163</td>\n",
       "    </tr>\n",
       "    <tr>\n",
       "      <th>2</th>\n",
       "      <td>Support Vector Machine</td>\n",
       "      <td>0.893194</td>\n",
       "      <td>0.584638</td>\n",
       "      <td>0.177233</td>\n",
       "      <td>0.271890</td>\n",
       "      <td>0.825844</td>\n",
       "      <td>0.002043</td>\n",
       "    </tr>\n",
       "    <tr>\n",
       "      <th>3</th>\n",
       "      <td>Decision Tree</td>\n",
       "      <td>0.905500</td>\n",
       "      <td>0.649650</td>\n",
       "      <td>0.350148</td>\n",
       "      <td>0.454903</td>\n",
       "      <td>0.862719</td>\n",
       "      <td>0.001605</td>\n",
       "    </tr>\n",
       "    <tr>\n",
       "      <th>4</th>\n",
       "      <td>Gradient Boosting Classifier</td>\n",
       "      <td>0.908204</td>\n",
       "      <td>0.633366</td>\n",
       "      <td>0.440259</td>\n",
       "      <td>0.519105</td>\n",
       "      <td>0.928047</td>\n",
       "      <td>0.001014</td>\n",
       "    </tr>\n",
       "  </tbody>\n",
       "</table>\n",
       "</div>"
      ],
      "text/plain": [
       "                          Model  Accuracy  Precision    Recall  F1 Score  \\\n",
       "0           Logistic Regression  0.903586   0.640239  0.328576  0.434119   \n",
       "1                 Random Forest  0.906472   0.666740  0.339366  0.449532   \n",
       "2        Support Vector Machine  0.893194   0.584638  0.177233  0.271890   \n",
       "3                 Decision Tree  0.905500   0.649650  0.350148  0.454903   \n",
       "4  Gradient Boosting Classifier  0.908204   0.633366  0.440259  0.519105   \n",
       "\n",
       "        AUC       Std  \n",
       "0  0.901090  0.001548  \n",
       "1  0.923183  0.001163  \n",
       "2  0.825844  0.002043  \n",
       "3  0.862719  0.001605  \n",
       "4  0.928047  0.001014  "
      ]
     },
     "execution_count": 4,
     "metadata": {},
     "output_type": "execute_result"
    }
   ],
   "source": [
    "import warnings\n",
    "warnings.filterwarnings('ignore') # ignoring pandas warnings.\n",
    "\n",
    "results = []\n",
    "names = []\n",
    "\n",
    "kfold = StratifiedKFold(n_splits=5, shuffle=True, random_state=42)  # 5-fold cross-validation\n",
    "\n",
    "# Create a table to store evaluation metrics\n",
    "metrics_table = pd.DataFrame(columns=['Model', 'Accuracy', 'Precision', 'Recall', 'F1 Score', 'AUC', \"Std\"])\n",
    "\n",
    "for name, model in models:\n",
    "    cv_results = cross_validate(model, X_train, y_train, cv=kfold, scoring=['precision', 'recall', 'f1', 'accuracy', 'roc_auc'])\n",
    "    results.append(cv_results)\n",
    "    names.append(type(model).__name__)\n",
    "    print(f\"{name}: Mean accuracy: {np.mean(cv_results['test_accuracy']*100):.2f}%, Standard deviation: {np.std(cv_results['test_accuracy']):.4f}\")\n",
    "    \n",
    "    # Store evaluation metrics in the table\n",
    "    metrics_table = metrics_table.append({\n",
    "        'Model': name,\n",
    "        'Accuracy': np.mean(cv_results['test_accuracy']),\n",
    "        'Precision': np.mean(cv_results['test_precision']),\n",
    "        'Recall': np.mean(cv_results['test_recall']),\n",
    "        'F1 Score': np.mean(cv_results['test_f1']),\n",
    "        'AUC': np.mean(cv_results['test_roc_auc']),\n",
    "        \"Std\" : np.std(cv_results['test_accuracy'])\n",
    "    }, ignore_index=True)\n",
    "    \n",
    "metrics_table"
   ]
  },
  {
   "cell_type": "markdown",
   "id": "686798c9",
   "metadata": {},
   "source": [
    "# Feature importances\n",
    "It is possible to measure the information gained when a variable is used to split data into y=0/1 during the training process of tree-based algorithms. Lets use it to get a feeling for the predictive importance of each variable.\n",
    "\n",
    "### Results\n",
    "Most features are fairly unimportant and add to noise. The top ranking features which show some distinct importance by order are: \"duration\", \"p_outcome_success\", \"month\", \"age\" , \"season\", \"contact\" and \"previous\". The added value of the engineered \"season\" is visible, however, many algorithms would be able to learn the feature as well.\n",
    "The importance of all one-hot encoded features should be accumulated as for \"job\" - whose importance is quite low.\n",
    "\n",
    "### Discussion\n",
    "As already discovered in EDA, the nature of the interaction (\"month\", \"duration\" and \"contact\") seems to matter, as well as \"age\" and if the previous interaction has been successful. "
   ]
  },
  {
   "cell_type": "code",
   "execution_count": 5,
   "id": "883e6571",
   "metadata": {},
   "outputs": [
    {
     "name": "stdout",
     "output_type": "stream",
     "text": [
      "Total Importance of Job Features: 0.021\n"
     ]
    },
    {
     "data": {
      "image/png": "[encoded data removed]",
      "text/plain": [
       "<Figure size 720x432 with 1 Axes>"
      ]
     },
     "metadata": {
      "needs_background": "light"
     },
     "output_type": "display_data"
    }
   ],
   "source": [
    "import matplotlib.pyplot as plt\n",
    "\n",
    "# Train the gradient boosting classifier. The model can be exported since it is trained on the entire dataset.\n",
    "final_model = GradientBoostingClassifier(learning_rate= 0.05, max_depth= 4, n_estimators= 500)\n",
    "final_model.fit(X_train, y_train)\n",
    "\n",
    "# Get the feature importances\n",
    "importance = final_model.feature_importances_\n",
    "feature_names = X_train.columns\n",
    "\n",
    "# Create a DataFrame for feature importance\n",
    "df_importance = pd.DataFrame({'Feature': feature_names, 'Importance': importance})\n",
    "\n",
    "# Sort the DataFrame by importance in descending order\n",
    "df_importance = df_importance.sort_values(by='Importance', ascending=False)\n",
    "\n",
    "# Select the top 10 features\n",
    "top_15_features = df_importance.head(15)\n",
    "\n",
    "# Filter the features that start with \"job_\"\n",
    "job_features = df_importance[df_importance['Feature'].str.startswith('job_')]\n",
    "# Calculate the total importance of job features\n",
    "total_job_importance = job_features['Importance'].sum()\n",
    "print(f\"Total Importance of Job Features: {total_job_importance:.3f}\")\n",
    "\n",
    "# Plot the feature importance table for the top 10 features\n",
    "plt.figure(figsize=(10, 6))\n",
    "plt.barh(top_15_features['Feature'], top_15_features['Importance'], color='blue')\n",
    "plt.xlabel('Predictive Importance')\n",
    "plt.ylabel('Feature')\n",
    "plt.title('Top 15 Feature Importance - Gradient Boosting Classifier')\n",
    "plt.show()"
   ]
  },
  {
   "cell_type": "markdown",
   "id": "a3145dbf",
   "metadata": {},
   "source": [
    "# Model Characteristics\n",
    "Lets plot some model characteristics to get a feeling for the confusion matrix and receiver operating characteristics."
   ]
  },
  {
   "cell_type": "code",
   "execution_count": 6,
   "id": "60f31174",
   "metadata": {},
   "outputs": [
    {
     "ename": "NameError",
     "evalue": "name 'labels' is not defined",
     "output_type": "error",
     "traceback": [
      "\u001b[0;31m---------------------------------------------------------------------------\u001b[0m",
      "\u001b[0;31mNameError\u001b[0m                                 Traceback (most recent call last)",
      "Input \u001b[0;32mIn [6]\u001b[0m, in \u001b[0;36m<cell line: 40>\u001b[0;34m()\u001b[0m\n\u001b[1;32m     37\u001b[0m cbar\u001b[38;5;241m.\u001b[39max\u001b[38;5;241m.\u001b[39mset_ylabel(\u001b[38;5;124m'\u001b[39m\u001b[38;5;124mCount\u001b[39m\u001b[38;5;124m'\u001b[39m, rotation\u001b[38;5;241m=\u001b[39m\u001b[38;5;241m-\u001b[39m\u001b[38;5;241m90\u001b[39m, va\u001b[38;5;241m=\u001b[39m\u001b[38;5;124m'\u001b[39m\u001b[38;5;124mbottom\u001b[39m\u001b[38;5;124m'\u001b[39m)\n\u001b[1;32m     39\u001b[0m \u001b[38;5;66;03m# Plot relative confusion matrix as text annotations\u001b[39;00m\n\u001b[0;32m---> 40\u001b[0m \u001b[38;5;28;01mfor\u001b[39;00m i \u001b[38;5;129;01min\u001b[39;00m \u001b[38;5;28mrange\u001b[39m(\u001b[38;5;28mlen\u001b[39m(\u001b[43mlabels\u001b[49m)):\n\u001b[1;32m     41\u001b[0m     \u001b[38;5;28;01mfor\u001b[39;00m j \u001b[38;5;129;01min\u001b[39;00m \u001b[38;5;28mrange\u001b[39m(\u001b[38;5;28mlen\u001b[39m(labels)):\n\u001b[1;32m     42\u001b[0m         text \u001b[38;5;241m=\u001b[39m ax\u001b[38;5;241m.\u001b[39mtext(j, i, \u001b[38;5;124m\"\u001b[39m\u001b[38;5;132;01m{:.2f}\u001b[39;00m\u001b[38;5;124m%\u001b[39m\u001b[38;5;130;01m\\n\u001b[39;00m\u001b[38;5;132;01m{:d}\u001b[39;00m\u001b[38;5;124m\"\u001b[39m\u001b[38;5;241m.\u001b[39mformat(rel_cm[i, j], abs_cm[i, j]),\n\u001b[1;32m     43\u001b[0m                        ha\u001b[38;5;241m=\u001b[39m\u001b[38;5;124m'\u001b[39m\u001b[38;5;124mcenter\u001b[39m\u001b[38;5;124m'\u001b[39m, va\u001b[38;5;241m=\u001b[39m\u001b[38;5;124m'\u001b[39m\u001b[38;5;124mcenter\u001b[39m\u001b[38;5;124m'\u001b[39m, color\u001b[38;5;241m=\u001b[39m\u001b[38;5;124m'\u001b[39m\u001b[38;5;124mblack\u001b[39m\u001b[38;5;124m'\u001b[39m)\n",
      "\u001b[0;31mNameError\u001b[0m: name 'labels' is not defined"
     ]
    },
    {
     "data": {
      "image/png": "[encoded data removed]",
      "text/plain": [
       "<Figure size 576x432 with 2 Axes>"
      ]
     },
     "metadata": {
      "needs_background": "light"
     },
     "output_type": "display_data"
    }
   ],
   "source": [
    "# Shuffle the data\n",
    "from sklearn.utils import shuffle\n",
    "\n",
    "# Shuffle the data\n",
    "shuffled_X_train, shuffled_y_train = shuffle(X_train, y_train, random_state=42)\n",
    "\n",
    "# Split the shuffled data into training and validation sets\n",
    "X_train_split, X_val, y_train_split, y_val = train_test_split(shuffled_X_train, shuffled_y_train,\n",
    "                                                              test_size=0.2, random_state=42)\n",
    "\n",
    "# Train the Gradient Boosting Classifier on 90% of the shuffled X_train data\n",
    "model = GradientBoostingClassifier()\n",
    "model.fit(X_train_split, y_train_split)\n",
    "\n",
    "# Predict probabilities for the validation set\n",
    "probs = model.predict_proba(X_val)[:, 1]\n",
    "\n",
    "# Calculate the ROC curve\n",
    "fpr, tpr, thresholds = roc_curve(y_val, probs)\n",
    "auc = roc_auc_score(y_val, probs)\n",
    "\n",
    "# Calculate the absolute confusion matrix\n",
    "\n",
    "# Predict the labels for the validation set\n",
    "pred_labels = model.predict(X_val)\n",
    "abs_cm = confusion_matrix(y_val, pred_labels)\n",
    "\n",
    "# Calculate the relative confusion matrix as percentages of the total\n",
    "rel_cm = abs_cm / abs_cm.sum() * 100\n",
    "\n",
    "# Plot the confusion matrix\n",
    "fig, ax = plt.subplots(figsize=(8, 6))\n",
    "\n",
    "# Plot absolute confusion matrix with color bar\n",
    "im = ax.imshow(abs_cm, cmap='Blues')\n",
    "cbar = ax.figure.colorbar(im, ax=ax)\n",
    "cbar.ax.set_ylabel('Count', rotation=-90, va='bottom')\n",
    "\n",
    "# Plot relative confusion matrix as text annotations\n",
    "for i in range(len(labels)):\n",
    "    for j in range(len(labels)):\n",
    "        text = ax.text(j, i, \"{:.2f}%\\n{:d}\".format(rel_cm[i, j], abs_cm[i, j]),\n",
    "                       ha='center', va='center', color='black')\n",
    "\n",
    "# Set x/y axis labels and tick labels\n",
    "ax.set_xticks(np.arange(len(labels)))\n",
    "ax.set_yticks(np.arange(len(labels)))\n",
    "ax.set_xticklabels(labels)\n",
    "ax.set_yticklabels(labels)\n",
    "\n",
    "# Set labels and title\n",
    "ax.set_xlabel('Predicted label')\n",
    "ax.set_ylabel('True label')\n",
    "ax.set_title('Confusion Matrix')\n",
    "\n",
    "# Show plot\n",
    "plt.tight_layout()\n",
    "plt.show()\n",
    "\n",
    "# Plot the ROC curve\n",
    "plt.figure(figsize=(8, 6))\n",
    "plt.plot(fpr, tpr, label='ROC curve (AUC = {:.2f})'.format(auc))\n",
    "plt.plot([0, 1], [0, 1], 'k--')\n",
    "plt.xlim([0, 1])\n",
    "plt.ylim([0, 1.05])\n",
    "plt.xlabel('False Positive Rate')\n",
    "plt.ylabel('True Positive Rate')\n",
    "plt.title('Receiver Operating Characteristic (ROC)')\n",
    "plt.legend(loc='lower right')\n",
    "plt.show()"
   ]
  },
  {
   "cell_type": "markdown",
   "id": "6bed6949",
   "metadata": {},
   "source": [
    "# Predicting on the test set\n",
    "Predicting and storing predictions. Out of 40 samples, 3 are predicet as y=\"yes\"."
   ]
  },
  {
   "cell_type": "code",
   "execution_count": null,
   "id": "24bf0b8d",
   "metadata": {},
   "outputs": [],
   "source": [
    "y_pred = final_model.predict(X_test)\n",
    "probs = final_model.predict_proba(X_test)[:,1]\n",
    "X_out = X_test.copy()\n",
    "X_out[\"y\"] = y_pred\n",
    "X_out[\"y\"] = X_out[\"y\"].map({0: \"no\", 1: \"yes\"})\n",
    "X_out[\"prob. y=1\"] = probs\n",
    "X_out.to_csv('data/predictions/test_data_predicted.csv', index=False)"
   ]
  },
  {
   "cell_type": "code",
   "execution_count": null,
   "id": "0a804d9c",
   "metadata": {},
   "outputs": [],
   "source": [
    "X_test[X_test.y==\"yes\"]"
   ]
  },
  {
   "cell_type": "markdown",
   "id": "530358c5",
   "metadata": {},
   "source": [
    "# Next Steps\n",
    "In alignment with business objectives, the model should be further tuned to optimize the recall and sensititvity: The options are:\n",
    "- Setting class weights\n",
    "- setting appropriate thresholds at inference time\n",
    "- using oversampling or undersampling"
   ]
  },
  {
   "cell_type": "code",
   "execution_count": null,
   "id": "a3b60edb",
   "metadata": {},
   "outputs": [],
   "source": []
  }
 ],
 "metadata": {
  "kernelspec": {
   "display_name": "Python 3 (ipykernel)",
   "language": "python",
   "name": "python3"
  },
  "language_info": {
   "codemirror_mode": {
    "name": "ipython",
    "version": 3
   },
   "file_extension": ".py",
   "mimetype": "text/x-python",
   "name": "python",
   "nbconvert_exporter": "python",
   "pygments_lexer": "ipython3",
   "version": "3.9.12"
  }
 },
 "nbformat": 4,
 "nbformat_minor": 5
}
